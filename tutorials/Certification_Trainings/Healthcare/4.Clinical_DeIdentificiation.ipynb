{
  "nbformat": 4,
  "nbformat_minor": 0,
  "metadata": {
    "colab": {
      "name": "4.Clinical_DeIdentification.ipynb",
      "provenance": [],
      "collapsed_sections": [],
      "toc_visible": true
    },
    "kernelspec": {
      "display_name": "Python 3",
      "language": "python",
      "name": "python3"
    },
    "language_info": {
      "codemirror_mode": {
        "name": "ipython",
        "version": 3
      },
      "file_extension": ".py",
      "mimetype": "text/x-python",
      "name": "python",
      "nbconvert_exporter": "python",
      "pygments_lexer": "ipython3",
      "version": "3.7.4"
    }
  },
  "cells": [
    {
      "cell_type": "markdown",
      "metadata": {
        "id": "I08sFJYCxR0Z"
      },
      "source": [
        "![JohnSnowLabs](https://nlp.johnsnowlabs.com/assets/images/logo.png)"
      ]
    },
    {
      "cell_type": "markdown",
      "metadata": {
        "id": "LKI5K1wQrSe9"
      },
      "source": [
        "[![Open In Colab](https://colab.research.google.com/assets/colab-badge.svg)](https://colab.research.google.com/github/JohnSnowLabs/spark-nlp-workshop/blob/master/tutorials/Certification_Trainings/Healthcare/4.Clinical_DeIdentificiation.ipynb)"
      ]
    },
    {
      "cell_type": "markdown",
      "metadata": {
        "id": "Niy3mZAjoayg"
      },
      "source": [
        "# Clinical Deidentification"
      ]
    },
    {
      "cell_type": "markdown",
      "metadata": {
        "id": "okhT7AcXxben"
      },
      "source": [
        "## Colab Setup"
      ]
    },
    {
      "cell_type": "code",
      "metadata": {
        "id": "I8Ytt2LLp2rj",
        "outputId": "a8541cad-33d0-4757-ab57-eb886d66a7a7",
        "colab": {
          "base_uri": "https://localhost:8080/",
          "height": 34
        }
      },
      "source": [
        "import json\n",
        "\n",
        "with open('spark_nlp_for_healthcare_summit.json') as f:\n",
        "    license_keys = json.load(f)\n",
        "\n",
        "license_keys.keys()\n"
      ],
      "execution_count": 1,
      "outputs": [
        {
          "output_type": "execute_result",
          "data": {
            "text/plain": [
              "dict_keys(['SECRET', 'SPARK_NLP_LICENSE', 'AWS_ACCESS_KEY_ID', 'AWS_SECRET_ACCESS_KEY', 'JSL_VERSION', 'PUBLIC_VERSION', 'SPARK_OCR_LICENSE', 'OCR_VERSION', 'JSL_OCR_SECRET'])"
            ]
          },
          "metadata": {
            "tags": []
          },
          "execution_count": 1
        }
      ]
    },
    {
      "cell_type": "code",
      "metadata": {
        "id": "iYPLeCFGf88G",
        "outputId": "37a6a55a-5c47-4a73-83bd-10875078fa51",
        "colab": {
          "base_uri": "https://localhost:8080/",
          "height": 35
        }
      },
      "source": [
        "license_keys['JSL_VERSION']"
      ],
      "execution_count": 2,
      "outputs": [
        {
          "output_type": "execute_result",
          "data": {
            "application/vnd.google.colaboratory.intrinsic+json": {
              "type": "string"
            },
            "text/plain": [
              "'2.6.2'"
            ]
          },
          "metadata": {
            "tags": []
          },
          "execution_count": 2
        }
      ]
    },
    {
      "cell_type": "code",
      "metadata": {
        "id": "xy-mE2aVxZjl"
      },
      "source": [
        "import os\n",
        "\n",
        "# Install java\n",
        "! apt-get update -qq\n",
        "! apt-get install -y openjdk-8-jdk-headless -qq > /dev/null\n",
        "\n",
        "os.environ[\"JAVA_HOME\"] = \"/usr/lib/jvm/java-8-openjdk-amd64\"\n",
        "os.environ[\"PATH\"] = os.environ[\"JAVA_HOME\"] + \"/bin:\" + os.environ[\"PATH\"]\n",
        "! java -version\n",
        "\n",
        "secret = license_keys['SECRET']\n",
        "\n",
        "os.environ['SPARK_NLP_LICENSE'] = license_keys['SPARK_NLP_LICENSE']\n",
        "os.environ['AWS_ACCESS_KEY_ID']= license_keys['AWS_ACCESS_KEY_ID']\n",
        "os.environ['AWS_SECRET_ACCESS_KEY'] = license_keys['AWS_SECRET_ACCESS_KEY']\n",
        "jsl_version = license_keys['JSL_VERSION']\n",
        "version = license_keys['PUBLIC_VERSION']\n",
        "\n",
        "! pip install --ignore-installed -q pyspark==2.4.4\n",
        "\n",
        "! python -m pip install --upgrade spark-nlp-jsl==$jsl_version  --extra-index-url https://pypi.johnsnowlabs.com/$secret\n",
        "\n",
        "! pip install --ignore-installed -q spark-nlp==$version\n",
        "\n",
        "import sparknlp\n",
        "\n",
        "print (sparknlp.version())\n",
        "\n",
        "import json\n",
        "import os\n",
        "from pyspark.ml import Pipeline\n",
        "from pyspark.sql import SparkSession\n",
        "\n",
        "\n",
        "from sparknlp.annotator import *\n",
        "from sparknlp_jsl.annotator import *\n",
        "from sparknlp.base import *\n",
        "import sparknlp_jsl\n",
        "\n",
        "spark = sparknlp_jsl.start(secret)"
      ],
      "execution_count": 3,
      "outputs": []
    },
    {
      "cell_type": "code",
      "metadata": {
        "id": "VtLIEJtPf88T"
      },
      "source": [
        "# if you want to start the session with custom params as in start function above\n",
        "def start(secret):\n",
        "    builder = SparkSession.builder \\\n",
        "        .appName(\"Spark NLP Licensed\") \\\n",
        "        .master(\"local[*]\") \\\n",
        "        .config(\"spark.driver.memory\", \"16G\") \\\n",
        "        .config(\"spark.serializer\", \"org.apache.spark.serializer.KryoSerializer\") \\\n",
        "        .config(\"spark.kryoserializer.buffer.max\", \"2000M\") \\\n",
        "        .config(\"spark.jars.packages\", \"com.johnsnowlabs.nlp:spark-nlp_2.11:\"+version) \\\n",
        "        .config(\"spark.jars\", \"https://pypi.johnsnowlabs.com/\"+secret+\"/spark-nlp-jsl-\"+jsl_version+\".jar\")\n",
        "      \n",
        "    return builder.getOrCreate()\n",
        "\n",
        "#spark = start(secret)"
      ],
      "execution_count": null,
      "outputs": []
    },
    {
      "cell_type": "code",
      "metadata": {
        "id": "V1wrGrq0GClP",
        "outputId": "996f8a96-9cac-48fa-917f-6e0c000dc789",
        "colab": {
          "base_uri": "https://localhost:8080/",
          "height": 216
        }
      },
      "source": [
        "spark"
      ],
      "execution_count": null,
      "outputs": [
        {
          "output_type": "execute_result",
          "data": {
            "text/html": [
              "\n",
              "            <div>\n",
              "                <p><b>SparkSession - in-memory</b></p>\n",
              "                \n",
              "        <div>\n",
              "            <p><b>SparkContext</b></p>\n",
              "\n",
              "            <p><a href=\"http://ecf7cb564cba:4040\">Spark UI</a></p>\n",
              "\n",
              "            <dl>\n",
              "              <dt>Version</dt>\n",
              "                <dd><code>v2.4.4</code></dd>\n",
              "              <dt>Master</dt>\n",
              "                <dd><code>local[*]</code></dd>\n",
              "              <dt>AppName</dt>\n",
              "                <dd><code>Spark NLP Licensed</code></dd>\n",
              "            </dl>\n",
              "        </div>\n",
              "        \n",
              "            </div>\n",
              "        "
            ],
            "text/plain": [
              "<pyspark.sql.session.SparkSession at 0x7fd0c3b04c50>"
            ]
          },
          "metadata": {
            "tags": []
          },
          "execution_count": 8
        }
      ]
    },
    {
      "cell_type": "markdown",
      "metadata": {
        "id": "rFQifkFYihOc"
      },
      "source": [
        "# Deidentification Model"
      ]
    },
    {
      "cell_type": "markdown",
      "metadata": {
        "id": "2eY0jM7kf88f"
      },
      "source": [
        "Protected Health Information: \n",
        "- individual’s past, present, or future physical or mental health or condition\n",
        "- provision of health care to the individual\n",
        "- past, present, or future payment for the health care \n",
        "\n",
        "Protected health information includes many common identifiers (e.g., name, address, birth date, Social Security Number) when they can be associated with the health information."
      ]
    },
    {
      "cell_type": "markdown",
      "metadata": {
        "id": "ZKln9C7Ef88f"
      },
      "source": [
        "Load NER pipeline to isentify protected entities:"
      ]
    },
    {
      "cell_type": "code",
      "metadata": {
        "id": "ONMo7NWXU19B"
      },
      "source": [
        "import pandas as pd\n",
        "\n",
        "pd.set_option('display.max_columns', None)  \n",
        "pd.set_option('display.expand_frame_repr', False)\n",
        "pd.set_option('max_colwidth', None)\n",
        "\n",
        "from sparknlp.base import *\n",
        "from sparknlp.annotator import *\n",
        "from pyspark.ml import Pipeline, PipelineModel\n",
        "import pyspark.sql.functions as F\n",
        "import string\n",
        "import numpy as np\n",
        "import sparknlp\n",
        "from sparknlp.util import *\n",
        "from sparknlp.pretrained import ResourceDownloader\n",
        "from pyspark.sql import functions as F\n",
        "from sparknlp_jsl.annotator import *"
      ],
      "execution_count": 4,
      "outputs": []
    },
    {
      "cell_type": "code",
      "metadata": {
        "id": "qHzG7Wvhgcex",
        "outputId": "26fa0c1a-ad44-49de-bfce-ba783d88fd83",
        "colab": {
          "base_uri": "https://localhost:8080/",
          "height": 123
        }
      },
      "source": [
        "from sparknlp_jsl.annotator import *\n",
        "\n",
        "documentAssembler = DocumentAssembler()\\\n",
        "  .setInputCol(\"text\")\\\n",
        "  .setOutputCol(\"document\")\n",
        "\n",
        "# Sentence Detector annotator, processes various sentences per line\n",
        "\n",
        "sentenceDetector = SentenceDetector()\\\n",
        "  .setInputCols([\"document\"])\\\n",
        "  .setOutputCol(\"sentence\")\n",
        "\n",
        "# Tokenizer splits words in a relevant format for NLP\n",
        "\n",
        "tokenizer = Tokenizer()\\\n",
        "  .setInputCols([\"sentence\"])\\\n",
        "  .setOutputCol(\"token\")\n",
        "\n",
        "# Clinical word embeddings trained on PubMED dataset\n",
        "\n",
        "word_embeddings = WordEmbeddingsModel.pretrained(\"embeddings_clinical\", \"en\", \"clinical/models\")\\\n",
        "  .setInputCols([\"sentence\", \"token\"])\\\n",
        "  .setOutputCol(\"embeddings\")\n",
        "\n",
        "# NER model trained on n2c2 (de-identification and Heart Disease Risk Factors Challenge) datasets)\n",
        "\n",
        "clinical_ner = NerDLModel.pretrained(\"ner_deid_large\", \"en\", \"clinical/models\") \\\n",
        "  .setInputCols([\"sentence\", \"token\", \"embeddings\"]) \\\n",
        "  .setOutputCol(\"ner\")\n",
        "\n",
        "ner_converter = NerConverterInternal()\\\n",
        "  .setInputCols([\"sentence\", \"token\", \"ner\"])\\\n",
        "  .setOutputCol(\"ner_chunk\")\n",
        "\n",
        "nlpPipeline = Pipeline(stages=[\n",
        "    documentAssembler, \n",
        "    sentenceDetector,\n",
        "    tokenizer,\n",
        "    word_embeddings,\n",
        "    clinical_ner,\n",
        "    ner_converter])\n",
        "\n",
        "empty_data = spark.createDataFrame([[\"\"]]).toDF(\"text\")\n",
        "\n",
        "model = nlpPipeline.fit(empty_data)"
      ],
      "execution_count": 154,
      "outputs": [
        {
          "output_type": "stream",
          "text": [
            "embeddings_clinical download started this may take some time.\n",
            "Approximate size to download 1.6 GB\n",
            "[OK!]\n",
            "ner_deid_large download started this may take some time.\n",
            "Approximate size to download 13.9 MB\n",
            "[OK!]\n"
          ],
          "name": "stdout"
        }
      ]
    },
    {
      "cell_type": "markdown",
      "metadata": {
        "id": "woAJhVv6f88m"
      },
      "source": [
        "### Pretrained NER models extracts:\n",
        "\n",
        "- Name\n",
        "- Profession\n",
        "- Age\n",
        "- Date\n",
        "- Contact(Telephone numbers, FAX numbers, Email addresses)\n",
        "- Location (Address, City, Postal code, Hospital Name, Employment information)\n",
        "- Id (Social Security numbers, Medical record numbers, Internet protocol addresses)"
      ]
    },
    {
      "cell_type": "code",
      "metadata": {
        "id": "Fxdh4CBBf88n"
      },
      "source": [
        "text ='''\n",
        "A . Record date : 2093-01-13 , David Hale , M.D . , Name : Hendrickson , Ora MR . # 7194334 Date : 01/13/93 PCP : Oliveira , 25 month years-old , Record date : 2079-11-09 . Cocke County Baptist Hospital . 0295 Keats Street\n",
        "'''"
      ],
      "execution_count": 155,
      "outputs": []
    },
    {
      "cell_type": "code",
      "metadata": {
        "id": "AE7cILT6f88q"
      },
      "source": [
        "result = model.transform(spark.createDataFrame([[text]]).toDF(\"text\"))"
      ],
      "execution_count": 156,
      "outputs": []
    },
    {
      "cell_type": "code",
      "metadata": {
        "id": "5cxcMyvLf88u"
      },
      "source": [
        "result_df = result.select(F.explode(F.arrays_zip('token.result', 'ner.result')).alias(\"cols\")) \\\n",
        ".select(F.expr(\"cols['0']\").alias(\"token\"),\n",
        "        F.expr(\"cols['1']\").alias(\"ner_label\"))"
      ],
      "execution_count": 157,
      "outputs": []
    },
    {
      "cell_type": "code",
      "metadata": {
        "id": "nygC3Hbzf88x",
        "outputId": "07421a18-11cd-4416-ff96-e8dfcaa730fe",
        "colab": {
          "base_uri": "https://localhost:8080/",
          "height": 247
        }
      },
      "source": [
        "result_df.select(\"token\", \"ner_label\").groupBy('ner_label').count().orderBy('count', ascending=False).show(truncate=False)"
      ],
      "execution_count": 158,
      "outputs": [
        {
          "output_type": "stream",
          "text": [
            "+----------+-----+\n",
            "|ner_label |count|\n",
            "+----------+-----+\n",
            "|O         |28   |\n",
            "|I-LOCATION|5    |\n",
            "|I-NAME    |3    |\n",
            "|B-NAME    |3    |\n",
            "|B-DATE    |3    |\n",
            "|B-LOCATION|2    |\n",
            "|B-ID      |1    |\n",
            "|B-AGE     |1    |\n",
            "+----------+-----+\n",
            "\n"
          ],
          "name": "stdout"
        }
      ]
    },
    {
      "cell_type": "markdown",
      "metadata": {
        "id": "DJvt31qlf880"
      },
      "source": [
        "### Check extracted sensetive entities"
      ]
    },
    {
      "cell_type": "code",
      "metadata": {
        "id": "gneft_Mgf881",
        "outputId": "4e82cf86-4d34-46aa-cb27-4346e36ffb72",
        "colab": {
          "base_uri": "https://localhost:8080/",
          "height": 283
        }
      },
      "source": [
        "result.select(F.explode(F.arrays_zip('ner_chunk.result', 'ner_chunk.metadata')).alias(\"cols\")) \\\n",
        ".select(F.expr(\"cols['0']\").alias(\"chunk\"),\n",
        "        F.expr(\"cols['1']['entity']\").alias(\"ner_label\")).show(truncate=False)"
      ],
      "execution_count": 159,
      "outputs": [
        {
          "output_type": "stream",
          "text": [
            "+-----------------------------+---------+\n",
            "|chunk                        |ner_label|\n",
            "+-----------------------------+---------+\n",
            "|2093-01-13                   |DATE     |\n",
            "|David Hale                   |NAME     |\n",
            "|Hendrickson , Ora            |NAME     |\n",
            "|7194334                      |ID       |\n",
            "|01/13/93                     |DATE     |\n",
            "|Oliveira                     |NAME     |\n",
            "|25                           |AGE      |\n",
            "|2079-11-09                   |DATE     |\n",
            "|Cocke County Baptist Hospital|LOCATION |\n",
            "|0295 Keats Street            |LOCATION |\n",
            "+-----------------------------+---------+\n",
            "\n"
          ],
          "name": "stdout"
        }
      ]
    },
    {
      "cell_type": "markdown",
      "metadata": {
        "id": "vHgjbu0Xf885"
      },
      "source": [
        "We can find the cases, where the model will skip some important entities, for example:"
      ]
    },
    {
      "cell_type": "code",
      "metadata": {
        "id": "3I9EdNGMf885"
      },
      "source": [
        "text ='''\n",
        "Patient AIQING, 25 years-old , born in Beijing, was transfered to the The Johns Hopkins Hospital. Phone number: (541) 754-3010. MSW 100009632582\n",
        "'''"
      ],
      "execution_count": 160,
      "outputs": []
    },
    {
      "cell_type": "code",
      "metadata": {
        "id": "NFlcDIG5f888"
      },
      "source": [
        "result2 = model.transform(spark.createDataFrame([[text]]).toDF(\"text\"))"
      ],
      "execution_count": 161,
      "outputs": []
    },
    {
      "cell_type": "code",
      "metadata": {
        "id": "xg5StqfBf89B",
        "outputId": "48033eb2-3fbe-4c50-c491-3ac77dc89768",
        "colab": {
          "base_uri": "https://localhost:8080/",
          "height": 194
        }
      },
      "source": [
        "result_df = result2.select(F.explode(F.arrays_zip('token.result', 'ner.result')).alias(\"cols\")) \\\n",
        ".select(F.expr(\"cols['0']\").alias(\"token\"),\n",
        "        F.expr(\"cols['1']\").alias(\"ner_label\"))\n",
        "\n",
        "result2.select(F.explode(F.arrays_zip('ner_chunk.result', 'ner_chunk.metadata')).alias(\"cols\")) \\\n",
        ".select(F.expr(\"cols['0']\").alias(\"chunk\"),\n",
        "        F.expr(\"cols['1']['entity']\").alias(\"ner_label\")).show(truncate=False)"
      ],
      "execution_count": 163,
      "outputs": [
        {
          "output_type": "stream",
          "text": [
            "+--------------------------+---------+\n",
            "|chunk                     |ner_label|\n",
            "+--------------------------+---------+\n",
            "|25                        |AGE      |\n",
            "|Beijing                   |LOCATION |\n",
            "|The Johns Hopkins Hospital|LOCATION |\n",
            "|(541) 754-3010            |CONTACT  |\n",
            "|100009632582              |ID       |\n",
            "+--------------------------+---------+\n",
            "\n"
          ],
          "name": "stdout"
        }
      ]
    },
    {
      "cell_type": "markdown",
      "metadata": {
        "id": "DExQOzZxf89E"
      },
      "source": [
        "For these entities we can add a dictionary to the pipeline, by using **NerOverwriter()**:"
      ]
    },
    {
      "cell_type": "code",
      "metadata": {
        "id": "UPu8J-FBf89E"
      },
      "source": [
        "neroverwriter = NerOverwriter() \\\n",
        "    .setInputCols([\"ner\"]) \\\n",
        "    .setOutputCol(\"ner_overwrited\") \\\n",
        "    .setStopWords(['AIQING']) \\\n",
        "    .setNewResult(\"I-NAME\")\n",
        "\n",
        "ner_converter = NerConverterInternal()\\\n",
        "  .setInputCols([\"sentence\", \"token\", \"ner_overwrited\"])\\\n",
        "  .setOutputCol(\"ner_chunk\")\n",
        "\n",
        "nlpPipeline = Pipeline(stages=[\n",
        "    documentAssembler, \n",
        "    sentenceDetector,\n",
        "    tokenizer,\n",
        "    word_embeddings,\n",
        "    clinical_ner,\n",
        "    neroverwriter,\n",
        "    ner_converter])\n",
        "\n",
        "empty_data = spark.createDataFrame([[\"\"]]).toDF(\"text\")\n",
        "\n",
        "model = nlpPipeline.fit(empty_data)"
      ],
      "execution_count": 164,
      "outputs": []
    },
    {
      "cell_type": "markdown",
      "metadata": {
        "id": "rgkbyhLBf89H"
      },
      "source": [
        "Let's test the model after modification:"
      ]
    },
    {
      "cell_type": "code",
      "metadata": {
        "id": "Bx3Numhlf89I"
      },
      "source": [
        "result2 = model.transform(spark.createDataFrame([[text]]).toDF(\"text\"))"
      ],
      "execution_count": 166,
      "outputs": []
    },
    {
      "cell_type": "code",
      "metadata": {
        "id": "S76-ayLGf89L",
        "outputId": "b2607697-192c-443c-ebe2-10ddfc35dc5b",
        "colab": {
          "base_uri": "https://localhost:8080/",
          "height": 478
        }
      },
      "source": [
        "result_df2 = result.select(F.explode(F.arrays_zip('token.result', 'ner.result')).alias(\"cols\")) \\\n",
        ".select(F.expr(\"cols['0']\").alias(\"token\"),\n",
        "        F.expr(\"cols['1']\").alias(\"ner_label\"))\n",
        "\n",
        "result_df2.show()"
      ],
      "execution_count": 167,
      "outputs": [
        {
          "output_type": "stream",
          "text": [
            "+----------+----------+\n",
            "|     token| ner_label|\n",
            "+----------+----------+\n",
            "|   Patient|         O|\n",
            "|    AIQING|         O|\n",
            "|         ,|         O|\n",
            "|        25|     B-AGE|\n",
            "| years-old|         O|\n",
            "|         ,|         O|\n",
            "|      born|         O|\n",
            "|        in|         O|\n",
            "|   Beijing|B-LOCATION|\n",
            "|         ,|         O|\n",
            "|       was|         O|\n",
            "|transfered|         O|\n",
            "|        to|         O|\n",
            "|       the|         O|\n",
            "|       The|B-LOCATION|\n",
            "|     Johns|I-LOCATION|\n",
            "|   Hopkins|I-LOCATION|\n",
            "|  Hospital|I-LOCATION|\n",
            "|         .|         O|\n",
            "|     Phone|         O|\n",
            "+----------+----------+\n",
            "only showing top 20 rows\n",
            "\n"
          ],
          "name": "stdout"
        }
      ]
    },
    {
      "cell_type": "code",
      "metadata": {
        "id": "cTTMqSN_sLJk",
        "outputId": "f412616e-f8c5-41fe-e261-495e0cd62ab9",
        "colab": {
          "base_uri": "https://localhost:8080/",
          "height": 212
        }
      },
      "source": [
        "result2.select(F.explode(F.arrays_zip('ner_chunk.result', 'ner_chunk.metadata')).alias(\"cols\")) \\\n",
        ".select(F.expr(\"cols['0']\").alias(\"chunk\"),\n",
        "        F.expr(\"cols['1']['entity']\").alias(\"ner_label\")).show(truncate=False)"
      ],
      "execution_count": 168,
      "outputs": [
        {
          "output_type": "stream",
          "text": [
            "+--------------------------+---------+\n",
            "|chunk                     |ner_label|\n",
            "+--------------------------+---------+\n",
            "|AIQING                    |NAME     |\n",
            "|25                        |AGE      |\n",
            "|Beijing                   |LOCATION |\n",
            "|The Johns Hopkins Hospital|LOCATION |\n",
            "|(541) 754-3010            |CONTACT  |\n",
            "|100009632582              |ID       |\n",
            "+--------------------------+---------+\n",
            "\n"
          ],
          "name": "stdout"
        }
      ]
    },
    {
      "cell_type": "markdown",
      "metadata": {
        "id": "U3MySdbyf89P"
      },
      "source": [
        "As we can see, now name **AIQING** was identified correctly"
      ]
    },
    {
      "cell_type": "markdown",
      "metadata": {
        "id": "EkD3zogqf89Q"
      },
      "source": [
        "### Excluding entities from deidentification"
      ]
    },
    {
      "cell_type": "markdown",
      "metadata": {
        "id": "my04HL3rf89Q"
      },
      "source": [
        "Sometimes we need to leave some entities in the text, for example, if we want to analyze the frequency of the disease by the hospital. In this case, we need to use parameter **setWhiteList()** to modify NerChunk output. This parameter having using a list of entities type to deidentify as an input. So, if we want to leave the location in the list we need to remove this tag from the list:"
      ]
    },
    {
      "cell_type": "code",
      "metadata": {
        "id": "3Bj066u9f89R"
      },
      "source": [
        "ner_converter = NerConverterInternal()\\\n",
        "  .setInputCols([\"sentence\", \"token\", \"ner_overwrited\"])\\\n",
        "  .setOutputCol(\"ner_chunk\") \\\n",
        "  .setWhiteList(['NAME', 'PROFESSION', 'ID', 'AGE',\n",
        "               'DATE', 'CONTACT'])\n",
        "\n",
        "nlpPipeline = Pipeline(stages=[\n",
        "    documentAssembler, \n",
        "    sentenceDetector,\n",
        "    tokenizer,\n",
        "    word_embeddings,\n",
        "    clinical_ner,\n",
        "    neroverwriter,\n",
        "    ner_converter])\n",
        "\n",
        "empty_data = spark.createDataFrame([[\"\"]]).toDF(\"text\")\n",
        "\n",
        "model_with_white_list = nlpPipeline.fit(empty_data)"
      ],
      "execution_count": 170,
      "outputs": []
    },
    {
      "cell_type": "code",
      "metadata": {
        "id": "oWNZR2trf89U"
      },
      "source": [
        "text ='''\n",
        "A . Record date : 2093-01-13 , David Hale , M.D . , Name : Hendrickson , Ora MR . # 7194334 Date : 01/13/93 PCP : Oliveira , 25 month years-old , Record date : 2079-11-09 . Cocke County Baptist Hospital . 0295 Keats Street\n",
        "'''\n",
        "\n",
        "result_with_white_list = model_with_white_list.transform(spark.createDataFrame([[text]]).toDF(\"text\"))"
      ],
      "execution_count": 171,
      "outputs": []
    },
    {
      "cell_type": "code",
      "metadata": {
        "id": "HFTW28Cbf89Y",
        "outputId": "51362410-9b83-4a0b-930a-dfefc3f7abe7",
        "colab": {
          "base_uri": "https://localhost:8080/",
          "height": 247
        }
      },
      "source": [
        "result_df = result.select(F.explode(F.arrays_zip('token.result', 'ner.result')).alias(\"cols\")) \\\n",
        ".select(F.expr(\"cols['0']\").alias(\"token\"),\n",
        "        F.expr(\"cols['1']\").alias(\"ner_label\"))\n",
        "\n",
        "result_with_white_list.select(F.explode(F.arrays_zip('ner_chunk.result', 'ner_chunk.metadata')).alias(\"cols\")) \\\n",
        ".select(F.expr(\"cols['0']\").alias(\"chunk\"),\n",
        "        F.expr(\"cols['1']['entity']\").alias(\"ner_label\")).show(truncate=False)"
      ],
      "execution_count": 172,
      "outputs": [
        {
          "output_type": "stream",
          "text": [
            "+-----------------+---------+\n",
            "|chunk            |ner_label|\n",
            "+-----------------+---------+\n",
            "|2093-01-13       |DATE     |\n",
            "|David Hale       |NAME     |\n",
            "|Hendrickson , Ora|NAME     |\n",
            "|7194334          |ID       |\n",
            "|01/13/93         |DATE     |\n",
            "|Oliveira         |NAME     |\n",
            "|25               |AGE      |\n",
            "|2079-11-09       |DATE     |\n",
            "+-----------------+---------+\n",
            "\n"
          ],
          "name": "stdout"
        }
      ]
    },
    {
      "cell_type": "markdown",
      "metadata": {
        "id": "rckvYUKVf89b"
      },
      "source": [
        "## Masking and Obfuscation"
      ]
    },
    {
      "cell_type": "markdown",
      "metadata": {
        "id": "HLt9SFX5f89b"
      },
      "source": [
        "### Replace this enitites with Tags"
      ]
    },
    {
      "cell_type": "code",
      "metadata": {
        "id": "WaFe5bZzhEXT",
        "outputId": "ef96685f-88ab-4106-939c-e9887d7adaf4",
        "colab": {
          "base_uri": "https://localhost:8080/",
          "height": 70
        }
      },
      "source": [
        "deidentification = DeIdentificationModel.pretrained(\"deidentify_large\", \"en\", \"clinical/models\") \\\n",
        "      .setInputCols([\"sentence\", \"token\", \"ner_chunk\"]) \\\n",
        "      .setOutputCol(\"deidentified\") \\\n",
        "      .setMode(\"mask\")"
      ],
      "execution_count": 173,
      "outputs": [
        {
          "output_type": "stream",
          "text": [
            "deidentify_large download started this may take some time.\n",
            "Approximate size to download 188.1 KB\n",
            "[OK!]\n"
          ],
          "name": "stdout"
        }
      ]
    },
    {
      "cell_type": "code",
      "metadata": {
        "id": "CZ3QgzH2AD-h"
      },
      "source": [
        "text ='''\n",
        "A . Record date : 2093-01-13 , David Hale , M.D . , Name : Hendrickson , Ora MR . # 7194334 Date : 01/13/93 PCP : Oliveira , 25 years-old , Record date : 2079-11-09 . Cocke County Baptist Hospital . 0295 Keats Street\n",
        "'''\n",
        "result = model.transform(spark.createDataFrame([[text]]).toDF(\"text\"))"
      ],
      "execution_count": 178,
      "outputs": []
    },
    {
      "cell_type": "code",
      "metadata": {
        "id": "Pg8fRNyQsZFd",
        "outputId": "acc005b2-b011-4a58-fe65-5e0010489f35",
        "colab": {
          "base_uri": "https://localhost:8080/",
          "height": 283
        }
      },
      "source": [
        "result.select(F.explode(F.arrays_zip('ner_chunk.result', 'ner_chunk.metadata')).alias(\"cols\")) \\\n",
        ".select(F.expr(\"cols['0']\").alias(\"chunk\"),\n",
        "        F.expr(\"cols['1']['entity']\").alias(\"ner_label\")).show(truncate=False)"
      ],
      "execution_count": 179,
      "outputs": [
        {
          "output_type": "stream",
          "text": [
            "+-----------------------------+---------+\n",
            "|chunk                        |ner_label|\n",
            "+-----------------------------+---------+\n",
            "|2093-01-13                   |DATE     |\n",
            "|David Hale                   |NAME     |\n",
            "|Hendrickson , Ora            |NAME     |\n",
            "|7194334                      |ID       |\n",
            "|01/13/93                     |DATE     |\n",
            "|Oliveira                     |NAME     |\n",
            "|25                           |AGE      |\n",
            "|2079-11-09                   |DATE     |\n",
            "|Cocke County Baptist Hospital|LOCATION |\n",
            "|0295 Keats Street            |LOCATION |\n",
            "+-----------------------------+---------+\n",
            "\n"
          ],
          "name": "stdout"
        }
      ]
    },
    {
      "cell_type": "code",
      "metadata": {
        "id": "KIGNZ52Sf89e"
      },
      "source": [
        "deid_text = deidentification.transform(result)"
      ],
      "execution_count": 180,
      "outputs": []
    },
    {
      "cell_type": "code",
      "metadata": {
        "id": "v2hzD4eRf89i",
        "outputId": "d2fcb6d6-9c46-48af-9855-5a8bc3050813",
        "colab": {
          "base_uri": "https://localhost:8080/",
          "height": 227
        }
      },
      "source": [
        "deid_text.select(F.explode(F.arrays_zip('sentence.result', 'deidentified.result')).alias(\"cols\")) \\\n",
        ".select(F.expr(\"cols['0']\").alias(\"sentence\"), F.expr(\"cols['1']\").alias(\"deidentified\")).toPandas()"
      ],
      "execution_count": 181,
      "outputs": [
        {
          "output_type": "execute_result",
          "data": {
            "text/html": [
              "<div>\n",
              "<style scoped>\n",
              "    .dataframe tbody tr th:only-of-type {\n",
              "        vertical-align: middle;\n",
              "    }\n",
              "\n",
              "    .dataframe tbody tr th {\n",
              "        vertical-align: top;\n",
              "    }\n",
              "\n",
              "    .dataframe thead th {\n",
              "        text-align: right;\n",
              "    }\n",
              "</style>\n",
              "<table border=\"1\" class=\"dataframe\">\n",
              "  <thead>\n",
              "    <tr style=\"text-align: right;\">\n",
              "      <th></th>\n",
              "      <th>sentence</th>\n",
              "      <th>deidentified</th>\n",
              "    </tr>\n",
              "  </thead>\n",
              "  <tbody>\n",
              "    <tr>\n",
              "      <th>0</th>\n",
              "      <td>A .</td>\n",
              "      <td>A .</td>\n",
              "    </tr>\n",
              "    <tr>\n",
              "      <th>1</th>\n",
              "      <td>Record date : 2093-01-13 , David Hale , M.D .</td>\n",
              "      <td>Record date : &lt;DATE&gt; , &lt;NAME&gt; , M.D .</td>\n",
              "    </tr>\n",
              "    <tr>\n",
              "      <th>2</th>\n",
              "      <td>, Name : Hendrickson , Ora MR .</td>\n",
              "      <td>, Name : &lt;NAME&gt; MR .</td>\n",
              "    </tr>\n",
              "    <tr>\n",
              "      <th>3</th>\n",
              "      <td># 7194334 Date : 01/13/93 PCP : Oliveira , 25 years-old , Record date : 2079-11-09 .</td>\n",
              "      <td># &lt;ID&gt; Date : &lt;DATE&gt; PCP : &lt;NAME&gt; , &lt;AGE&gt; years-old , Record date : &lt;DATE&gt; .</td>\n",
              "    </tr>\n",
              "    <tr>\n",
              "      <th>4</th>\n",
              "      <td>Cocke County Baptist Hospital .</td>\n",
              "      <td>&lt;LOCATION&gt; .</td>\n",
              "    </tr>\n",
              "    <tr>\n",
              "      <th>5</th>\n",
              "      <td>0295 Keats Street</td>\n",
              "      <td>&lt;LOCATION&gt;</td>\n",
              "    </tr>\n",
              "  </tbody>\n",
              "</table>\n",
              "</div>"
            ],
            "text/plain": [
              "                                                                               sentence                                                                  deidentified\n",
              "0                                                                                   A .                                                                           A .\n",
              "1                                         Record date : 2093-01-13 , David Hale , M.D .                                         Record date : <DATE> , <NAME> , M.D .\n",
              "2                                                       , Name : Hendrickson , Ora MR .                                                          , Name : <NAME> MR .\n",
              "3  # 7194334 Date : 01/13/93 PCP : Oliveira , 25 years-old , Record date : 2079-11-09 .  # <ID> Date : <DATE> PCP : <NAME> , <AGE> years-old , Record date : <DATE> .\n",
              "4                                                       Cocke County Baptist Hospital .                                                                  <LOCATION> .\n",
              "5                                                                     0295 Keats Street                                                                    <LOCATION>"
            ]
          },
          "metadata": {
            "tags": []
          },
          "execution_count": 181
        }
      ]
    },
    {
      "cell_type": "markdown",
      "metadata": {
        "id": "HJokGuGxf89k"
      },
      "source": [
        "### Use obfuscation mode"
      ]
    },
    {
      "cell_type": "markdown",
      "metadata": {
        "id": "KG0Bvua7f89l"
      },
      "source": [
        "In the obfuscation mode **DeIdentificationModel** will replace sensetive entities with random values of the same type. \n",
        "\n",
        "Will be replaced: \n",
        "- Name\n",
        "- Location\n",
        "- Contacts\n",
        "- Profession\n",
        "\n",
        "Will be tagged:\n",
        "- Age\n",
        "- Date\n",
        "- ID"
      ]
    },
    {
      "cell_type": "code",
      "metadata": {
        "id": "obQ4BmTzf89l",
        "outputId": "4d338ca4-fe31-4dac-ceaf-65713e19170f",
        "colab": {
          "base_uri": "https://localhost:8080/",
          "height": 70
        }
      },
      "source": [
        "obfuscation = DeIdentificationModel.pretrained(\"deidentify_large\", \"en\", \"clinical/models\") \\\n",
        "      .setInputCols([\"sentence\", \"token\", \"ner_chunk\"]) \\\n",
        "      .setOutputCol(\"deidentified\") \\\n",
        "      .setMode(\"obfuscate\")\\\n",
        "      .setObfuscateDate(True)\n",
        "\n",
        "        #.setObfuscateRefFile('obfuscation.txt') \\\n",
        "        #.setRefSep('#') \\\n",
        "        #.setRegexPatternsDictionary('regex_dict.txt', 'TEXT')\n",
        "      "
      ],
      "execution_count": 182,
      "outputs": [
        {
          "output_type": "stream",
          "text": [
            "deidentify_large download started this may take some time.\n",
            "Approximate size to download 188.1 KB\n",
            "[OK!]\n"
          ],
          "name": "stdout"
        }
      ]
    },
    {
      "cell_type": "markdown",
      "metadata": {
        "id": "aZtAgfkK0giv"
      },
      "source": [
        "sample obfuscation.txt\n",
        "```\n",
        "Marvin MARSHALL#DOCTOR\n",
        "Hubert GROGAN#DOCTOR\n",
        "ALTHEA COLBURN#DOCTOR\n",
        "Kalil AMIN#DOCTOR\n",
        "Inci FOUNTAIN#DOCTOR\n",
        "Ekaterina Rosa#DOCTOR\n",
        "Rudiger Chao#DOCTOR\n",
        "COLLETTE KOHLER#DOCTOR\n",
        "Mufi HIGGS#DOCTOR\n",
        "```\n",
        "\n",
        "sample regex_dict.txt\n",
        "```\n",
        "AGE \\d{1,2}\\s(?:months|weeks|mos)\n",
        "MEDICALRECORD (?<=MRN\\s)(\\w+\n",
        "```"
      ]
    },
    {
      "cell_type": "code",
      "metadata": {
        "id": "EDqrmXcqsAKe",
        "outputId": "cda4a9db-39a8-46f1-a6bc-951215616a26",
        "colab": {
          "base_uri": "https://localhost:8080/",
          "height": 141
        }
      },
      "source": [
        "result.show()"
      ],
      "execution_count": 183,
      "outputs": [
        {
          "output_type": "stream",
          "text": [
            "+--------------------+--------------------+--------------------+--------------------+--------------------+--------------------+--------------------+--------------------+\n",
            "|                text|            document|            sentence|               token|          embeddings|                 ner|      ner_overwrited|           ner_chunk|\n",
            "+--------------------+--------------------+--------------------+--------------------+--------------------+--------------------+--------------------+--------------------+\n",
            "|\n",
            "A . Record date ...|[[document, 0, 21...|[[document, 1, 3,...|[[token, 1, 1, A,...|[[word_embeddings...|[[named_entity, 1...|[[named_entity, 1...|[[chunk, 19, 28, ...|\n",
            "+--------------------+--------------------+--------------------+--------------------+--------------------+--------------------+--------------------+--------------------+\n",
            "\n"
          ],
          "name": "stdout"
        }
      ]
    },
    {
      "cell_type": "code",
      "metadata": {
        "id": "pgSVjPUDf89q"
      },
      "source": [
        "obfusated_text = obfuscation.transform(result)"
      ],
      "execution_count": 184,
      "outputs": []
    },
    {
      "cell_type": "code",
      "metadata": {
        "id": "vgiHhAWgrsGQ",
        "outputId": "ed42eb92-8687-48a0-e012-ca3dd5a2e0b1",
        "colab": {
          "base_uri": "https://localhost:8080/",
          "height": 54
        }
      },
      "source": [
        "obfusated_text.select('ner.result').take(1)"
      ],
      "execution_count": 185,
      "outputs": [
        {
          "output_type": "execute_result",
          "data": {
            "text/plain": [
              "[Row(result=['O', 'O', 'O', 'O', 'O', 'B-DATE', 'O', 'B-NAME', 'I-NAME', 'O', 'O', 'O', 'O', 'O', 'O', 'B-NAME', 'I-NAME', 'I-NAME', 'O', 'O', 'O', 'B-ID', 'O', 'O', 'B-DATE', 'O', 'O', 'B-NAME', 'O', 'B-AGE', 'O', 'O', 'O', 'O', 'O', 'B-DATE', 'O', 'B-LOCATION', 'I-LOCATION', 'I-LOCATION', 'I-LOCATION', 'O', 'B-LOCATION', 'I-LOCATION', 'I-LOCATION'])]"
            ]
          },
          "metadata": {
            "tags": []
          },
          "execution_count": 185
        }
      ]
    },
    {
      "cell_type": "code",
      "metadata": {
        "id": "wiiJ5GAff89s",
        "outputId": "10582418-991a-4ea2-d438-e3cfbdd4f7a6",
        "colab": {
          "base_uri": "https://localhost:8080/",
          "height": 227
        }
      },
      "source": [
        "obfusated_text.select(F.explode(F.arrays_zip('sentence.result', 'deidentified.result')).alias(\"cols\")) \\\n",
        ".select(F.expr(\"cols['0']\").alias(\"sentence\"), F.expr(\"cols['1']\").alias(\"deidentified\")).toPandas()"
      ],
      "execution_count": 186,
      "outputs": [
        {
          "output_type": "execute_result",
          "data": {
            "text/html": [
              "<div>\n",
              "<style scoped>\n",
              "    .dataframe tbody tr th:only-of-type {\n",
              "        vertical-align: middle;\n",
              "    }\n",
              "\n",
              "    .dataframe tbody tr th {\n",
              "        vertical-align: top;\n",
              "    }\n",
              "\n",
              "    .dataframe thead th {\n",
              "        text-align: right;\n",
              "    }\n",
              "</style>\n",
              "<table border=\"1\" class=\"dataframe\">\n",
              "  <thead>\n",
              "    <tr style=\"text-align: right;\">\n",
              "      <th></th>\n",
              "      <th>sentence</th>\n",
              "      <th>deidentified</th>\n",
              "    </tr>\n",
              "  </thead>\n",
              "  <tbody>\n",
              "    <tr>\n",
              "      <th>0</th>\n",
              "      <td>A .</td>\n",
              "      <td>A .</td>\n",
              "    </tr>\n",
              "    <tr>\n",
              "      <th>1</th>\n",
              "      <td>Record date : 2093-01-13 , David Hale , M.D .</td>\n",
              "      <td>Record date : 2093-02-23 , Jere , M.D .</td>\n",
              "    </tr>\n",
              "    <tr>\n",
              "      <th>2</th>\n",
              "      <td>, Name : Hendrickson , Ora MR .</td>\n",
              "      <td>, Name : IGNACIUS MR .</td>\n",
              "    </tr>\n",
              "    <tr>\n",
              "      <th>3</th>\n",
              "      <td># 7194334 Date : 01/13/93 PCP : Oliveira , 25 years-old , Record date : 2079-11-09 .</td>\n",
              "      <td># &lt;ID&gt; Date : &lt;DATE&gt; PCP : Jephthah , &lt;AGE&gt; years-old , Record date : 2079-11-19 .</td>\n",
              "    </tr>\n",
              "    <tr>\n",
              "      <th>4</th>\n",
              "      <td>Cocke County Baptist Hospital .</td>\n",
              "      <td>Irena .</td>\n",
              "    </tr>\n",
              "    <tr>\n",
              "      <th>5</th>\n",
              "      <td>0295 Keats Street</td>\n",
              "      <td>Graford</td>\n",
              "    </tr>\n",
              "  </tbody>\n",
              "</table>\n",
              "</div>"
            ],
            "text/plain": [
              "                                                                               sentence                                                                        deidentified\n",
              "0                                                                                   A .                                                                                 A .\n",
              "1                                         Record date : 2093-01-13 , David Hale , M.D .                                             Record date : 2093-02-23 , Jere , M.D .\n",
              "2                                                       , Name : Hendrickson , Ora MR .                                                              , Name : IGNACIUS MR .\n",
              "3  # 7194334 Date : 01/13/93 PCP : Oliveira , 25 years-old , Record date : 2079-11-09 .  # <ID> Date : <DATE> PCP : Jephthah , <AGE> years-old , Record date : 2079-11-19 .\n",
              "4                                                       Cocke County Baptist Hospital .                                                                             Irena .\n",
              "5                                                                     0295 Keats Street                                                                             Graford"
            ]
          },
          "metadata": {
            "tags": []
          },
          "execution_count": 186
        }
      ]
    },
    {
      "cell_type": "markdown",
      "metadata": {
        "id": "9jAMC21Hf89v"
      },
      "source": [
        "## Use full pipeline in the Light model"
      ]
    },
    {
      "cell_type": "code",
      "metadata": {
        "id": "kaUnGYhOf89w"
      },
      "source": [
        "finisher = Finisher() \\\n",
        "    .setInputCols(\"deidentified\")\n",
        "\n",
        "ner_converter = NerConverterInternal()\\\n",
        "  .setInputCols([\"sentence\", \"token\", \"ner_overwrited\"])\\\n",
        "  .setOutputCol(\"ner_chunk\") "
      ],
      "execution_count": 187,
      "outputs": []
    },
    {
      "cell_type": "code",
      "metadata": {
        "id": "Qhq7n1IahS_Y"
      },
      "source": [
        "pipeline = Pipeline(stages=[\n",
        "    documentAssembler, \n",
        "    sentenceDetector,\n",
        "    tokenizer,\n",
        "    word_embeddings,\n",
        "    clinical_ner,\n",
        "    neroverwriter,\n",
        "    ner_converter,\n",
        "    obfuscation])"
      ],
      "execution_count": 188,
      "outputs": []
    },
    {
      "cell_type": "code",
      "metadata": {
        "id": "ZohbvibZf891"
      },
      "source": [
        "\n",
        "empty_data = spark.createDataFrame([[\"\"]]).toDF(\"text\")\n",
        "\n",
        "model = pipeline.fit(empty_data)"
      ],
      "execution_count": 189,
      "outputs": []
    },
    {
      "cell_type": "code",
      "metadata": {
        "id": "DhtnLajzgNNb"
      },
      "source": [
        "light_model = LightPipeline(model)"
      ],
      "execution_count": 190,
      "outputs": []
    },
    {
      "cell_type": "code",
      "metadata": {
        "id": "_sC_bn1Hhs9g"
      },
      "source": [
        "text ='''\n",
        "A . Record date : 2093-01-13 , David Hale , M.D . , Name : Hendrickson , Ora MR . # 7194334 Date : 01-13-1993 PCP : Oliveira , 25 years-old , Record date : 2079-11-09 . Cocke County Baptist Hospital . 0295 Keats Street\n",
        "'''"
      ],
      "execution_count": 191,
      "outputs": []
    },
    {
      "cell_type": "code",
      "metadata": {
        "id": "jbblkrvjEHn9",
        "outputId": "823941a6-ba3a-4e40-9fb2-b187143e49d2",
        "colab": {
          "base_uri": "https://localhost:8080/",
          "height": 123
        }
      },
      "source": [
        "annotated_text = light_model.annotate(text)\n",
        "annotated_text['deidentified']"
      ],
      "execution_count": 192,
      "outputs": [
        {
          "output_type": "execute_result",
          "data": {
            "text/plain": [
              "['A .',\n",
              " 'Record date : 2093-03-13 , Jere , M.D .',\n",
              " ', Name : IGNACIUS MR .',\n",
              " '# <ID> Date : 01-26-1993 PCP : Jephthah , <AGE> years-old , Record date : 2079-11-22 .',\n",
              " 'Irena .',\n",
              " 'Graford']"
            ]
          },
          "metadata": {
            "tags": []
          },
          "execution_count": 192
        }
      ]
    },
    {
      "cell_type": "code",
      "metadata": {
        "id": "BqNvJOvQvy99",
        "outputId": "26f5262c-14f4-42c2-a94b-a00a44a27980",
        "colab": {
          "base_uri": "https://localhost:8080/",
          "height": 816
        }
      },
      "source": [
        "list(zip(annotated_text['token'], annotated_text['ner']))"
      ],
      "execution_count": 193,
      "outputs": [
        {
          "output_type": "execute_result",
          "data": {
            "text/plain": [
              "[('A', 'O'),\n",
              " ('.', 'O'),\n",
              " ('Record', 'O'),\n",
              " ('date', 'O'),\n",
              " (':', 'O'),\n",
              " ('2093-01-13', 'B-DATE'),\n",
              " (',', 'O'),\n",
              " ('David', 'B-NAME'),\n",
              " ('Hale', 'I-NAME'),\n",
              " (',', 'O'),\n",
              " ('M.D', 'O'),\n",
              " ('.', 'O'),\n",
              " (',', 'O'),\n",
              " ('Name', 'O'),\n",
              " (':', 'O'),\n",
              " ('Hendrickson', 'B-NAME'),\n",
              " (',', 'I-NAME'),\n",
              " ('Ora', 'I-NAME'),\n",
              " ('MR', 'O'),\n",
              " ('.', 'O'),\n",
              " ('#', 'O'),\n",
              " ('7194334', 'B-ID'),\n",
              " ('Date', 'O'),\n",
              " (':', 'O'),\n",
              " ('01-13-1993', 'B-DATE'),\n",
              " ('PCP', 'O'),\n",
              " (':', 'O'),\n",
              " ('Oliveira', 'B-NAME'),\n",
              " (',', 'O'),\n",
              " ('25', 'B-AGE'),\n",
              " ('years-old', 'O'),\n",
              " (',', 'O'),\n",
              " ('Record', 'O'),\n",
              " ('date', 'O'),\n",
              " (':', 'O'),\n",
              " ('2079-11-09', 'B-DATE'),\n",
              " ('.', 'O'),\n",
              " ('Cocke', 'B-LOCATION'),\n",
              " ('County', 'I-LOCATION'),\n",
              " ('Baptist', 'I-LOCATION'),\n",
              " ('Hospital', 'I-LOCATION'),\n",
              " ('.', 'O'),\n",
              " ('0295', 'B-LOCATION'),\n",
              " ('Keats', 'I-LOCATION'),\n",
              " ('Street', 'I-LOCATION')]"
            ]
          },
          "metadata": {
            "tags": []
          },
          "execution_count": 193
        }
      ]
    },
    {
      "cell_type": "code",
      "metadata": {
        "id": "zploSXHnw1B5",
        "outputId": "8a34dd82-046e-4c0a-82e4-cad90c044e71",
        "colab": {
          "base_uri": "https://localhost:8080/",
          "height": 194
        }
      },
      "source": [
        "annotated_text['ner_chunk']"
      ],
      "execution_count": 194,
      "outputs": [
        {
          "output_type": "execute_result",
          "data": {
            "text/plain": [
              "['2093-01-13',\n",
              " 'David Hale',\n",
              " 'Hendrickson , Ora',\n",
              " '7194334',\n",
              " '01-13-1993',\n",
              " 'Oliveira',\n",
              " '25',\n",
              " '2079-11-09',\n",
              " 'Cocke County Baptist Hospital',\n",
              " '0295 Keats Street']"
            ]
          },
          "metadata": {
            "tags": []
          },
          "execution_count": 194
        }
      ]
    },
    {
      "cell_type": "code",
      "metadata": {
        "id": "0emrh9kBfRKf",
        "outputId": "12b239f5-6d24-4a09-8dc5-7c5c51b3b2d8",
        "colab": {
          "base_uri": "https://localhost:8080/",
          "height": 247
        }
      },
      "source": [
        "source_text = '''Record date : 2093-01-13, David Hale, M.D. is manager, \n",
        "Name: Hendrickson, Ora MR. # 7194334 Date: 01-13-1993 PCP: Oliveira.\n",
        "Record date: 2079-11-09. Cocke County Baptist Hospital. 0295 Keats Street.\n",
        "This 17-yr-old male, presented with chest heaviness that started during a pick-up basketball game. His past medical history was unremarkable. He denied prior cardiac symptoms and suffered no chest trauma during the game. His father had suffered an acute myocardial infarction at age 38. The patient was a nonsmoker, did not drink alcohol, and denied recreational drug use. He swallowed a tablet of aspirin before coming to the emergency room. His blood pressure was 160/90 mm Hg, and his heart rate was 80 bpm. Physical examination revealed no stigmata of Marfan syndrome. The rest of his physical examination was normal.'''\n",
        "\n",
        "annotated_text = light_model.annotate(source_text)\n",
        "annotated_text['deidentified']"
      ],
      "execution_count": 195,
      "outputs": [
        {
          "output_type": "execute_result",
          "data": {
            "text/plain": [
              "['Record date : 2093-03-02, Jere, M.D. is Costume Attendants, \\nName: IGNACIUS MR. # <ID> Date: (859)247-1693 PCP: Jephthah.',\n",
              " 'Record date: 2080-01-07.',\n",
              " 'Irena.',\n",
              " 'Graford.',\n",
              " 'This <AGE> male, presented with chest heaviness that started during a pick-up basketball game.',\n",
              " 'His past medical history was unremarkable.',\n",
              " 'He denied prior cardiac symptoms and suffered no chest trauma during the game.',\n",
              " 'His father had suffered an acute myocardial infarction at age',\n",
              " '<AGE>. The patient was a nonsmoker, did not drink alcohol, and denied recreational drug use.',\n",
              " 'He swallowed a tablet of aspirin before coming to the emergency room.',\n",
              " 'His blood pressure was 160/90 mm Hg, and his heart rate was 80 bpm.',\n",
              " 'Physical examination revealed no stigmata of Marfan syndrome.',\n",
              " 'The rest of his physical examination was normal.']"
            ]
          },
          "metadata": {
            "tags": []
          },
          "execution_count": 195
        }
      ]
    },
    {
      "cell_type": "markdown",
      "metadata": {
        "id": "gvfk9aBgf8-C"
      },
      "source": [
        "## Train custom Model\n"
      ]
    },
    {
      "cell_type": "code",
      "metadata": {
        "id": "zrCiTFwq2SkX",
        "outputId": "21e8a02e-d8e2-4f18-cdcb-11dd374f14ef",
        "colab": {
          "base_uri": "https://localhost:8080/",
          "height": 123
        }
      },
      "source": [
        "glove_embeddings = WordEmbeddingsModel.pretrained('glove_100d')\\\n",
        "          .setInputCols([\"document\", \"token\"])\\\n",
        "          .setOutputCol(\"embeddings\")\n",
        "\n",
        "public_ner = NerDLModel.pretrained(\"ner_dl\", 'en') \\\n",
        "          .setInputCols([\"document\", \"token\", \"embeddings\"]) \\\n",
        "          .setOutputCol(\"ner\")\n",
        "\n",
        "ner_converter = NerConverterInternal()\\\n",
        "  .setInputCols([\"sentence\", \"token\", \"ner\"])\\\n",
        "  .setOutputCol(\"ner_chunk\")\n"
      ],
      "execution_count": 65,
      "outputs": [
        {
          "output_type": "stream",
          "text": [
            "glove_100d download started this may take some time.\n",
            "Approximate size to download 145.3 MB\n",
            "[OK!]\n",
            "ner_dl download started this may take some time.\n",
            "Approximate size to download 13.6 MB\n",
            "[OK!]\n"
          ],
          "name": "stdout"
        }
      ]
    },
    {
      "cell_type": "code",
      "metadata": {
        "id": "EAn2UqKwf8-W"
      },
      "source": [
        "\n",
        "nlpPipeline = Pipeline(stages=[\n",
        "    documentAssembler, \n",
        "    sentenceDetector,\n",
        "    tokenizer,\n",
        "    glove_embeddings,\n",
        "    public_ner,\n",
        "    ner_converter])\n",
        "\n",
        "empty_data = spark.createDataFrame([[\"\"]]).toDF(\"text\")\n",
        "\n",
        "custom_model = nlpPipeline.fit(result)"
      ],
      "execution_count": 66,
      "outputs": []
    },
    {
      "cell_type": "code",
      "metadata": {
        "id": "hGifAYcjf8-Z"
      },
      "source": [
        "source_text = '''Record date : 2093-01-13, David Hale lives in New York'''"
      ],
      "execution_count": 139,
      "outputs": []
    },
    {
      "cell_type": "code",
      "metadata": {
        "id": "Kw4TP_M1f8-c"
      },
      "source": [
        "result = custom_model.transform(spark.createDataFrame([[source_text]]).toDF(\"text\"))"
      ],
      "execution_count": 140,
      "outputs": []
    },
    {
      "cell_type": "markdown",
      "metadata": {
        "id": "v4P_w-nDf8-e"
      },
      "source": [
        "#### We got new entities in the model 'PER' and 'ORG'"
      ]
    },
    {
      "cell_type": "code",
      "metadata": {
        "id": "CJk7dAbYf8-f",
        "outputId": "ae29514f-a146-49a2-b2c2-fc8ee74a51cf",
        "colab": {
          "base_uri": "https://localhost:8080/",
          "height": 141
        }
      },
      "source": [
        "result.select(F.explode(F.arrays_zip('ner_chunk.result', 'ner_chunk.metadata')).alias(\"cols\")) \\\n",
        ".select(F.expr(\"cols['0']\").alias(\"chunk\"),\n",
        "        F.expr(\"cols['1']['entity']\").alias(\"ner_label\")).show(truncate=False)"
      ],
      "execution_count": 141,
      "outputs": [
        {
          "output_type": "stream",
          "text": [
            "+----------+---------+\n",
            "|chunk     |ner_label|\n",
            "+----------+---------+\n",
            "|David Hale|PER      |\n",
            "|New York  |LOC      |\n",
            "+----------+---------+\n",
            "\n"
          ],
          "name": "stdout"
        }
      ]
    },
    {
      "cell_type": "markdown",
      "metadata": {
        "id": "Sx5Uitz1vedz"
      },
      "source": [
        "### Mask custom entities"
      ]
    },
    {
      "cell_type": "code",
      "metadata": {
        "id": "x1nLENcavdCE"
      },
      "source": [
        "deidentification = DeIdentification() \\\n",
        "      .setInputCols([\"sentence\", \"token\", \"ner_chunk\"]) \\\n",
        "      .setOutputCol(\"deidentified\") \\\n",
        "      .setMode(\"mask\")"
      ],
      "execution_count": 142,
      "outputs": []
    },
    {
      "cell_type": "code",
      "metadata": {
        "id": "eL4vIm9TvdWY"
      },
      "source": [
        "deid_model = deidentification.fit(result)\n",
        "deid_text = deid_model.transform(result)"
      ],
      "execution_count": 143,
      "outputs": []
    },
    {
      "cell_type": "code",
      "metadata": {
        "id": "LeIoxeRWvdSZ",
        "outputId": "3895f768-e38e-4c0f-c13b-d73c8a0f1ae5",
        "colab": {
          "base_uri": "https://localhost:8080/",
          "height": 77
        }
      },
      "source": [
        "deid_text.select(F.explode(F.arrays_zip('sentence.result', 'deidentified.result')).alias(\"cols\")) \\\n",
        ".select(F.expr(\"cols['0']\").alias(\"sentence\"), F.expr(\"cols['1']\").alias(\"deidentified\")).toPandas()"
      ],
      "execution_count": 144,
      "outputs": [
        {
          "output_type": "execute_result",
          "data": {
            "text/html": [
              "<div>\n",
              "<style scoped>\n",
              "    .dataframe tbody tr th:only-of-type {\n",
              "        vertical-align: middle;\n",
              "    }\n",
              "\n",
              "    .dataframe tbody tr th {\n",
              "        vertical-align: top;\n",
              "    }\n",
              "\n",
              "    .dataframe thead th {\n",
              "        text-align: right;\n",
              "    }\n",
              "</style>\n",
              "<table border=\"1\" class=\"dataframe\">\n",
              "  <thead>\n",
              "    <tr style=\"text-align: right;\">\n",
              "      <th></th>\n",
              "      <th>sentence</th>\n",
              "      <th>deidentified</th>\n",
              "    </tr>\n",
              "  </thead>\n",
              "  <tbody>\n",
              "    <tr>\n",
              "      <th>0</th>\n",
              "      <td>Record date : 2093-01-13, David Hale lives in New York</td>\n",
              "      <td>Record date : 2093-01-13, &lt;PER&gt; lives in &lt;LOC&gt;</td>\n",
              "    </tr>\n",
              "  </tbody>\n",
              "</table>\n",
              "</div>"
            ],
            "text/plain": [
              "                                                 sentence                                    deidentified\n",
              "0  Record date : 2093-01-13, David Hale lives in New York  Record date : 2093-01-13, <PER> lives in <LOC>"
            ]
          },
          "metadata": {
            "tags": []
          },
          "execution_count": 144
        }
      ]
    },
    {
      "cell_type": "code",
      "metadata": {
        "id": "QpLr7HKI1EQq"
      },
      "source": [
        "deid_model.write().overwrite().save('custom_deid_masker_model')"
      ],
      "execution_count": 145,
      "outputs": []
    },
    {
      "cell_type": "markdown",
      "metadata": {
        "id": "hOHhaQKbf8-h"
      },
      "source": [
        " To be able to obfuscate new entities we have to create custom Deidentification Model with new dictionary"
      ]
    },
    {
      "cell_type": "code",
      "metadata": {
        "id": "Nze0cSh7fR9W"
      },
      "source": [
        "obfuscation_list = ['Marvin MARSHALL#PER',\n",
        "      'Hubert GROGAN#PER',\n",
        "      'ALTHEA COLBURN#PER',\n",
        "      'Kalil AMIN#PER',\n",
        "      'Inci FOUNTAIN#PER',\n",
        "      'Surrey#ORG',\n",
        "      'Warwickshire#ORG',\n",
        "      'Derbyshire#ORG',\n",
        "      'Leicestershire#ORG',\n",
        "      'Glamorgan#ORG',\n",
        "      'Durham#ORG',\n",
        "      'Los Angeles#LOC']\n",
        "\n",
        "with open('obfuscation.txt', 'a') as the_file:\n",
        "    for line in obfuscation_list:\n",
        "      the_file.write(line + '\\n')"
      ],
      "execution_count": 146,
      "outputs": []
    },
    {
      "cell_type": "code",
      "metadata": {
        "id": "enpmmCfbf8-j"
      },
      "source": [
        "obfuscator = DeIdentification() \\\n",
        "    .setInputCols([\"sentence\", \"token\", \"ner_chunk\"]) \\\n",
        "    .setOutputCol(\"deidentified\") \\\n",
        "    .setMode('obfuscate') \\\n",
        "    .setRefSep('#') \\\n",
        "    .setObfuscateRefFile('obfuscation.txt') \\\n",
        "    .setObfuscateDate(True)\n"
      ],
      "execution_count": 147,
      "outputs": []
    },
    {
      "cell_type": "code",
      "metadata": {
        "id": "Gia6ufwhf8-l"
      },
      "source": [
        "obfuscator_model = obfuscator.fit(result)"
      ],
      "execution_count": 148,
      "outputs": []
    },
    {
      "cell_type": "code",
      "metadata": {
        "id": "TTAkmJWuktxI"
      },
      "source": [
        "obfuscator_model.write().overwrite().save('custom_obfuscator_model')"
      ],
      "execution_count": 149,
      "outputs": []
    },
    {
      "cell_type": "code",
      "metadata": {
        "id": "YfMT8lIZf8-n"
      },
      "source": [
        "obfusc_text = obfuscator_model.transform(result)"
      ],
      "execution_count": 150,
      "outputs": []
    },
    {
      "cell_type": "code",
      "metadata": {
        "id": "p4ONlR9309Rk",
        "outputId": "b7a3c070-154f-41ff-ff79-f6aa57c42278",
        "colab": {
          "base_uri": "https://localhost:8080/",
          "height": 77
        }
      },
      "source": [
        "obfusc_text.select(F.explode(F.arrays_zip('sentence.result', 'deidentified.result')).alias(\"cols\")) \\\n",
        ".select(F.expr(\"cols['0']\").alias(\"sentence\"), F.expr(\"cols['1']\").alias(\"deidentified\")).toPandas()"
      ],
      "execution_count": 151,
      "outputs": [
        {
          "output_type": "execute_result",
          "data": {
            "text/html": [
              "<div>\n",
              "<style scoped>\n",
              "    .dataframe tbody tr th:only-of-type {\n",
              "        vertical-align: middle;\n",
              "    }\n",
              "\n",
              "    .dataframe tbody tr th {\n",
              "        vertical-align: top;\n",
              "    }\n",
              "\n",
              "    .dataframe thead th {\n",
              "        text-align: right;\n",
              "    }\n",
              "</style>\n",
              "<table border=\"1\" class=\"dataframe\">\n",
              "  <thead>\n",
              "    <tr style=\"text-align: right;\">\n",
              "      <th></th>\n",
              "      <th>sentence</th>\n",
              "      <th>deidentified</th>\n",
              "    </tr>\n",
              "  </thead>\n",
              "  <tbody>\n",
              "    <tr>\n",
              "      <th>0</th>\n",
              "      <td>Record date : 2093-01-13, David Hale lives in New York</td>\n",
              "      <td>Record date : 2093-01-13, Kalil AMIN lives in New York</td>\n",
              "    </tr>\n",
              "  </tbody>\n",
              "</table>\n",
              "</div>"
            ],
            "text/plain": [
              "                                                 sentence                                            deidentified\n",
              "0  Record date : 2093-01-13, David Hale lives in New York  Record date : 2093-01-13, Kalil AMIN lives in New York"
            ]
          },
          "metadata": {
            "tags": []
          },
          "execution_count": 151
        }
      ]
    },
    {
      "cell_type": "code",
      "metadata": {
        "id": "kdxnDJJF6300"
      },
      "source": [
        ""
      ],
      "execution_count": null,
      "outputs": []
    }
  ]
}